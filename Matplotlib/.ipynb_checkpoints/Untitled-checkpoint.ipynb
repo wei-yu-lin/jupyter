{
 "cells": [
  {
   "cell_type": "code",
   "execution_count": 22,
   "metadata": {},
   "outputs": [],
   "source": [
    "import matplotlib.pyplot as plt\n",
    "import pandas as pd"
   ]
  },
  {
   "cell_type": "code",
   "execution_count": 5,
   "metadata": {},
   "outputs": [
    {
     "data": {
      "text/plain": [
       "[<matplotlib.lines.Line2D at 0x2435b0d1ec8>]"
      ]
     },
     "execution_count": 5,
     "metadata": {},
     "output_type": "execute_result"
    },
    {
     "data": {
      "image/png": "[encoded data removed]",
      "text/plain": [
       "<Figure size 432x288 with 1 Axes>"
      ]
     },
     "metadata": {
      "needs_background": "light"
     },
     "output_type": "display_data"
    }
   ],
   "source": [
    "# plt.plot(x軸,y軸)\n",
    "years = [1000,1500]\n",
    "pops = [200,400]\n",
    "plt.plot(pops,years)"
   ]
  },
  {
   "cell_type": "code",
   "execution_count": 34,
   "metadata": {},
   "outputs": [
    {
     "name": "stdout",
     "output_type": "stream",
     "text": [
      "{'name': 'Sky', 'attack': 100, 'hp': 500, 'defense': 0}\n"
     ]
    }
   ],
   "source": [
    "def fun(**settings):\n",
    "    settings.setdefault('name', 'Hello')\n",
    "    settings.setdefault('attack', 50)\n",
    "    settings.setdefault('defense', 0)\n",
    "    settings.setdefault('hp', 150)\n",
    "    print(settings)\n",
    "\n",
    "fun(name='Sky', attack=100, hp=500)\n",
    "# {'name': 'Sky', 'attack': 100, 'defense': 0, 'hp': 500}"
   ]
  },
  {
   "cell_type": "code",
   "execution_count": 61,
   "metadata": {},
   "outputs": [
    {
     "name": "stdout",
     "output_type": "stream",
     "text": [
      "{'name': 'a', 'exe': 'running', 'juju': 'fuck'}\n",
      "running\n"
     ]
    }
   ],
   "source": [
    "ps = {'name':'a','exe':'running'}\n",
    "ps.setdefault('juju','fuck')\n",
    "print(ps)\n",
    "print(ps.setdefault('exe',None))"
   ]
  }
 ],
 "metadata": {
  "kernelspec": {
   "display_name": "Python 3",
   "language": "python",
   "name": "python3"
  },
  "language_info": {
   "codemirror_mode": {
    "name": "ipython",
    "version": 3
   },
   "file_extension": ".py",
   "mimetype": "text/x-python",
   "name": "python",
   "nbconvert_exporter": "python",
   "pygments_lexer": "ipython3",
   "version": "3.7.7"
  }
 },
 "nbformat": 4,
 "nbformat_minor": 4
}
