{
 "cells": [
  {
   "cell_type": "markdown",
   "metadata": {},
   "source": [
    "# gropuby() 跟 sql的groupby根本一毛一樣"
   ]
  },
  {
   "cell_type": "code",
   "execution_count": 67,
   "metadata": {},
   "outputs": [],
   "source": [
    "import pandas as pd\n",
    "import numpy as np"
   ]
  },
  {
   "cell_type": "code",
   "execution_count": 38,
   "metadata": {},
   "outputs": [
    {
     "data": {
      "text/html": [
       "<div>\n",
       "<style scoped>\n",
       "    .dataframe tbody tr th:only-of-type {\n",
       "        vertical-align: middle;\n",
       "    }\n",
       "\n",
       "    .dataframe tbody tr th {\n",
       "        vertical-align: top;\n",
       "    }\n",
       "\n",
       "    .dataframe thead th {\n",
       "        text-align: right;\n",
       "    }\n",
       "</style>\n",
       "<table border=\"1\" class=\"dataframe\">\n",
       "  <thead>\n",
       "    <tr style=\"text-align: right;\">\n",
       "      <th></th>\n",
       "      <th>order_id</th>\n",
       "      <th>buyer_ban</th>\n",
       "      <th>buyer_name</th>\n",
       "      <th>item_description</th>\n",
       "      <th>item_sequence_number</th>\n",
       "      <th>item_unit_price</th>\n",
       "      <th>item_quantity</th>\n",
       "      <th>item_amount</th>\n",
       "    </tr>\n",
       "  </thead>\n",
       "  <tbody>\n",
       "    <tr>\n",
       "      <th>0</th>\n",
       "      <td>AA001</td>\n",
       "      <td>53567686</td>\n",
       "      <td>雲端行動科技股份有限公司</td>\n",
       "      <td>電子發票服務費</td>\n",
       "      <td>1</td>\n",
       "      <td>1000</td>\n",
       "      <td>1</td>\n",
       "      <td>1000</td>\n",
       "    </tr>\n",
       "    <tr>\n",
       "      <th>1</th>\n",
       "      <td>AA001</td>\n",
       "      <td>53567686</td>\n",
       "      <td>雲端行動科技股份有限公司</td>\n",
       "      <td>電子發票代辦費</td>\n",
       "      <td>2</td>\n",
       "      <td>2000</td>\n",
       "      <td>2</td>\n",
       "      <td>4000</td>\n",
       "    </tr>\n",
       "    <tr>\n",
       "      <th>2</th>\n",
       "      <td>BB001</td>\n",
       "      <td>27934855</td>\n",
       "      <td>美商科高國際有限公司</td>\n",
       "      <td>系統使用費</td>\n",
       "      <td>1</td>\n",
       "      <td>500</td>\n",
       "      <td>1</td>\n",
       "      <td>500</td>\n",
       "    </tr>\n",
       "    <tr>\n",
       "      <th>3</th>\n",
       "      <td>BB001</td>\n",
       "      <td>27934855</td>\n",
       "      <td>美商科高國際有限公司</td>\n",
       "      <td>系統開通費</td>\n",
       "      <td>2</td>\n",
       "      <td>300</td>\n",
       "      <td>2</td>\n",
       "      <td>600</td>\n",
       "    </tr>\n",
       "  </tbody>\n",
       "</table>\n",
       "</div>"
      ],
      "text/plain": [
       "  order_id  buyer_ban    buyer_name item_description  item_sequence_number  \\\n",
       "0    AA001   53567686  雲端行動科技股份有限公司          電子發票服務費                     1   \n",
       "1    AA001   53567686  雲端行動科技股份有限公司          電子發票代辦費                     2   \n",
       "2    BB001   27934855    美商科高國際有限公司            系統使用費                     1   \n",
       "3    BB001   27934855    美商科高國際有限公司            系統開通費                     2   \n",
       "\n",
       "   item_unit_price  item_quantity  item_amount  \n",
       "0             1000              1         1000  \n",
       "1             2000              2         4000  \n",
       "2              500              1          500  \n",
       "3              300              2          600  "
      ]
     },
     "execution_count": 38,
     "metadata": {},
     "output_type": "execute_result"
    }
   ],
   "source": [
    "# gropuby() 可以將資料依照自己要的column分組\n",
    "b2b_csv_o = pd.read_csv(\"B2B發票匯入.csv\")\n",
    "b2b_csv_o"
   ]
  },
  {
   "cell_type": "code",
   "execution_count": 39,
   "metadata": {},
   "outputs": [
    {
     "name": "stdout",
     "output_type": "stream",
     "text": [
      "buyer_ban\n",
      "27934855    2\n",
      "53567686    2\n",
      "dtype: int64\n"
     ]
    }
   ],
   "source": [
    "b2b_buyer_ban = b2b_csv_o.groupby(\"buyer_ban\")\n",
    "b2b_item_description = b2b_csv_o.groupby(\"item_description\")\n",
    "# size\n",
    "print(b2b_buyer_ban.size())"
   ]
  },
  {
   "cell_type": "code",
   "execution_count": 37,
   "metadata": {},
   "outputs": [
    {
     "data": {
      "text/html": [
       "<div>\n",
       "<style scoped>\n",
       "    .dataframe tbody tr th:only-of-type {\n",
       "        vertical-align: middle;\n",
       "    }\n",
       "\n",
       "    .dataframe tbody tr th {\n",
       "        vertical-align: top;\n",
       "    }\n",
       "\n",
       "    .dataframe thead th {\n",
       "        text-align: right;\n",
       "    }\n",
       "</style>\n",
       "<table border=\"1\" class=\"dataframe\">\n",
       "  <thead>\n",
       "    <tr style=\"text-align: right;\">\n",
       "      <th></th>\n",
       "      <th>order_id</th>\n",
       "      <th>buyer_ban</th>\n",
       "      <th>buyer_name</th>\n",
       "      <th>item_description</th>\n",
       "      <th>item_sequence_number</th>\n",
       "      <th>item_unit_price</th>\n",
       "      <th>item_quantity</th>\n",
       "      <th>item_amount</th>\n",
       "    </tr>\n",
       "  </thead>\n",
       "  <tbody>\n",
       "    <tr>\n",
       "      <th>0</th>\n",
       "      <td>AA001</td>\n",
       "      <td>53567686</td>\n",
       "      <td>雲端行動科技股份有限公司</td>\n",
       "      <td>電子發票服務費</td>\n",
       "      <td>1</td>\n",
       "      <td>1000</td>\n",
       "      <td>1</td>\n",
       "      <td>1000</td>\n",
       "    </tr>\n",
       "    <tr>\n",
       "      <th>1</th>\n",
       "      <td>AA001</td>\n",
       "      <td>53567686</td>\n",
       "      <td>雲端行動科技股份有限公司</td>\n",
       "      <td>電子發票代辦費</td>\n",
       "      <td>2</td>\n",
       "      <td>2000</td>\n",
       "      <td>2</td>\n",
       "      <td>4000</td>\n",
       "    </tr>\n",
       "  </tbody>\n",
       "</table>\n",
       "</div>"
      ],
      "text/plain": [
       "  order_id  buyer_ban    buyer_name item_description  item_sequence_number  \\\n",
       "0    AA001   53567686  雲端行動科技股份有限公司          電子發票服務費                     1   \n",
       "1    AA001   53567686  雲端行動科技股份有限公司          電子發票代辦費                     2   \n",
       "\n",
       "   item_unit_price  item_quantity  item_amount  \n",
       "0             1000              1         1000  \n",
       "1             2000              2         4000  "
      ]
     },
     "execution_count": 37,
     "metadata": {},
     "output_type": "execute_result"
    }
   ],
   "source": [
    "b2b_buyer_ban.get_group(53567686)"
   ]
  },
  {
   "cell_type": "code",
   "execution_count": 66,
   "metadata": {
    "scrolled": true
   },
   "outputs": [
    {
     "name": "stdout",
     "output_type": "stream",
     "text": [
      "  order_id  buyer_ban  buyer_name item_description  item_sequence_number  \\\n",
      "2    BB001   27934855  美商科高國際有限公司            系統使用費                     1   \n",
      "\n",
      "   item_unit_price  item_quantity  item_amount  \n",
      "2              500              1          500  \n",
      "{'系統使用費': Int64Index([2], dtype='int64'), '系統開通費': Int64Index([3], dtype='int64'), '電子發票代辦費': Int64Index([1], dtype='int64'), '電子發票服務費': Int64Index([0], dtype='int64')}\n"
     ]
    }
   ],
   "source": [
    "print(b2b_item_description.get_group('系統使用費'))\n",
    "# 可使用.groups()每個組有什麼資料與資料類型\n",
    "print(b2b_item_description.groups)"
   ]
  },
  {
   "cell_type": "markdown",
   "metadata": {},
   "source": [
    "# Groupby運算"
   ]
  },
  {
   "cell_type": "code",
   "execution_count": 86,
   "metadata": {},
   "outputs": [
    {
     "data": {
      "text/html": [
       "<div>\n",
       "<style scoped>\n",
       "    .dataframe tbody tr th:only-of-type {\n",
       "        vertical-align: middle;\n",
       "    }\n",
       "\n",
       "    .dataframe tbody tr th {\n",
       "        vertical-align: top;\n",
       "    }\n",
       "\n",
       "    .dataframe thead th {\n",
       "        text-align: right;\n",
       "    }\n",
       "</style>\n",
       "<table border=\"1\" class=\"dataframe\">\n",
       "  <thead>\n",
       "    <tr style=\"text-align: right;\">\n",
       "      <th></th>\n",
       "      <th>A</th>\n",
       "      <th>B</th>\n",
       "    </tr>\n",
       "    <tr>\n",
       "      <th>C</th>\n",
       "      <th></th>\n",
       "      <th></th>\n",
       "    </tr>\n",
       "  </thead>\n",
       "  <tbody>\n",
       "    <tr>\n",
       "      <th>CX</th>\n",
       "      <td>2.214139</td>\n",
       "      <td>1.296825</td>\n",
       "    </tr>\n",
       "    <tr>\n",
       "      <th>YO</th>\n",
       "      <td>0.243871</td>\n",
       "      <td>-1.907940</td>\n",
       "    </tr>\n",
       "  </tbody>\n",
       "</table>\n",
       "</div>"
      ],
      "text/plain": [
       "           A         B\n",
       "C                     \n",
       "CX  2.214139  1.296825\n",
       "YO  0.243871 -1.907940"
      ]
     },
     "execution_count": 86,
     "metadata": {},
     "output_type": "execute_result"
    }
   ],
   "source": [
    "df = pd.DataFrame({\n",
    "    'A':np.random.randn(8),\n",
    "    'B':np.random.randn(8),\n",
    "    'C':['YO','CX','YO','CX','YO','CX','YO','CX']\n",
    "}) \n",
    "c =  df.groupby('C').sum()\n",
    "c"
   ]
  },
  {
   "cell_type": "markdown",
   "metadata": {},
   "source": [
    "# Pandas使用多層索引"
   ]
  },
  {
   "cell_type": "markdown",
   "metadata": {},
   "source": [
    "parse_dates:将csv中的时间字符串转换成日期格式\n",
    "1.infer_datetime_format=True 可減少csv解析日期格式時間\n",
    "2.keep_date_col=True/False参数则是用来指定解析为日期格式的列是否保留下来"
   ]
  },
  {
   "cell_type": "code",
   "execution_count": 122,
   "metadata": {},
   "outputs": [
    {
     "data": {
      "text/html": [
       "<div>\n",
       "<style scoped>\n",
       "    .dataframe tbody tr th:only-of-type {\n",
       "        vertical-align: middle;\n",
       "    }\n",
       "\n",
       "    .dataframe tbody tr th {\n",
       "        vertical-align: top;\n",
       "    }\n",
       "\n",
       "    .dataframe thead th {\n",
       "        text-align: right;\n",
       "    }\n",
       "</style>\n",
       "<table border=\"1\" class=\"dataframe\">\n",
       "  <thead>\n",
       "    <tr style=\"text-align: right;\">\n",
       "      <th></th>\n",
       "      <th>name</th>\n",
       "      <th>time</th>\n",
       "      <th>date</th>\n",
       "    </tr>\n",
       "  </thead>\n",
       "  <tbody>\n",
       "    <tr>\n",
       "      <th>0</th>\n",
       "      <td>'Bob'</td>\n",
       "      <td>21:33:30</td>\n",
       "      <td>2019-10-10</td>\n",
       "    </tr>\n",
       "    <tr>\n",
       "      <th>1</th>\n",
       "      <td>'Jerry'</td>\n",
       "      <td>21:30:15</td>\n",
       "      <td>2019-10-10</td>\n",
       "    </tr>\n",
       "    <tr>\n",
       "      <th>2</th>\n",
       "      <td>'Tom'</td>\n",
       "      <td>21:25:30</td>\n",
       "      <td>2019-10-10</td>\n",
       "    </tr>\n",
       "    <tr>\n",
       "      <th>3</th>\n",
       "      <td>'Vince'</td>\n",
       "      <td>21:20:10</td>\n",
       "      <td>2019-10-10</td>\n",
       "    </tr>\n",
       "    <tr>\n",
       "      <th>4</th>\n",
       "      <td>'Hank'</td>\n",
       "      <td>21:40:15</td>\n",
       "      <td>2019-10-10</td>\n",
       "    </tr>\n",
       "  </tbody>\n",
       "</table>\n",
       "</div>"
      ],
      "text/plain": [
       "      name      time       date\n",
       "0    'Bob'  21:33:30 2019-10-10\n",
       "1  'Jerry'  21:30:15 2019-10-10\n",
       "2    'Tom'  21:25:30 2019-10-10\n",
       "3  'Vince'  21:20:10 2019-10-10\n",
       "4   'Hank'  21:40:15 2019-10-10"
      ]
     },
     "execution_count": 122,
     "metadata": {},
     "output_type": "execute_result"
    }
   ],
   "source": [
    "apple = pd.read_csv('date_time_name.csv',parse_dates=['date'])\n",
    "apple.head()"
   ]
  },
  {
   "cell_type": "code",
   "execution_count": 127,
   "metadata": {},
   "outputs": [
    {
     "name": "stdout",
     "output_type": "stream",
     "text": [
      "            time_date     name\n",
      "0 2019-10-10 21:33:30    'Bob'\n",
      "1 2019-10-10 21:30:15  'Jerry'\n",
      "2 2019-10-10 21:25:30    'Tom'\n",
      "3 2019-10-10 21:20:10  'Vince'\n",
      "4 2019-10-10 21:40:15   'Hank'\n",
      "            time_date     name      time        date\n",
      "0 2019-10-10 21:33:30    'Bob'  21:33:30  2019-10-10\n",
      "1 2019-10-10 21:30:15  'Jerry'  21:30:15  2019-10-10\n",
      "2 2019-10-10 21:25:30    'Tom'  21:25:30  2019-10-10\n",
      "3 2019-10-10 21:20:10  'Vince'  21:20:10  2019-10-10\n",
      "4 2019-10-10 21:40:15   'Hank'  21:40:15  2019-10-10\n"
     ]
    }
   ],
   "source": [
    "使用keep_date_col前 = pd.read_csv('date_time_name.csv',parse_dates=[['time','date']],infer_datetime_format=True)\n",
    "print(使用keep_date_col前)\n",
    "使用keep_date_col後 = pd.read_csv('date_time_name.csv',parse_dates=[['time','date']],infer_datetime_format=True,keep_date_col=True)\n",
    "print(使用keep_date_col後)"
   ]
  },
  {
   "cell_type": "code",
   "execution_count": 141,
   "metadata": {},
   "outputs": [
    {
     "name": "stdout",
     "output_type": "stream",
     "text": [
      "                        time\n",
      "date       name             \n",
      "2019-10-10 'Bob'    21:33:30\n",
      "           'Jerry'  21:30:15\n",
      "           'Tom'    21:25:30\n",
      "           'Vince'  21:20:10\n",
      "           'Hank'   21:40:15\n",
      "                        time\n",
      "date       name             \n",
      "2019-10-10 'Bob'    21:33:30\n",
      "           'Jerry'  21:30:15\n",
      "           'Tom'    21:25:30\n",
      "           'Vince'  21:20:10\n",
      "           'Hank'   21:40:15\n"
     ]
    }
   ],
   "source": [
    "# 可使用合併index，同值的會合一\n",
    "apple_in = apple.set_index(['date','name'])\n",
    "apple_in_key = apple.set_index(keys = ['date','name'])\n",
    "print(apple_in_key)"
   ]
  },
  {
   "cell_type": "markdown",
   "metadata": {},
   "source": [
    "sort_index() 對index裡面的值進行排序\n",
    "1.inplace = True：不創建新的對象，直接對原始對象進行修改\n",
    "2.inplace = False：對數據進行修改，可放進變數然後不會改變原始值。\n",
    "默認是False，即創建新的對象進行修改，原對像不變，和深複製和淺複製某些類似。"
   ]
  },
  {
   "cell_type": "code",
   "execution_count": 149,
   "metadata": {},
   "outputs": [
    {
     "name": "stdout",
     "output_type": "stream",
     "text": [
      "             name       date\n",
      "time                        \n",
      "21:20:10  'Vince' 2019-10-10\n",
      "21:25:30    'Tom' 2019-10-10\n",
      "21:30:15  'Jerry' 2019-10-10\n",
      "21:33:30    'Bob' 2019-10-10\n",
      "21:40:15   'Hank' 2019-10-10\n"
     ]
    }
   ],
   "source": [
    "apple_time = apple.set_index(['time'])\n",
    "apple_time.sort_index(inplace=True)\n",
    "print(apple_time)"
   ]
  },
  {
   "cell_type": "markdown",
   "metadata": {},
   "source": [
    "set_names()   更改index的名稱"
   ]
  },
  {
   "cell_type": "code",
   "execution_count": 180,
   "metadata": {},
   "outputs": [
    {
     "name": "stdout",
     "output_type": "stream",
     "text": [
      "                        date\n",
      "bitch   axss                \n",
      "'Bob'   21:33:30  2019-10-10\n",
      "'Jerry' 21:30:15  2019-10-10\n",
      "'Tom'   21:25:30  2019-10-10\n",
      "'Vince' 21:20:10  2019-10-10\n",
      "'Hank'  21:40:15  2019-10-10\n"
     ]
    }
   ],
   "source": [
    "banana = pd.read_csv('date_time_name.csv',index_col=['name','time'])\n",
    "banana.index.set_names(['bitch','axss'],inplace=True)\n",
    "print(banana)"
   ]
  }
 ],
 "metadata": {
  "kernelspec": {
   "display_name": "Python 3",
   "language": "python",
   "name": "python3"
  },
  "language_info": {
   "codemirror_mode": {
    "name": "ipython",
    "version": 3
   },
   "file_extension": ".py",
   "mimetype": "text/x-python",
   "name": "python",
   "nbconvert_exporter": "python",
   "pygments_lexer": "ipython3",
   "version": "3.7.7"
  }
 },
 "nbformat": 4,
 "nbformat_minor": 4
}
