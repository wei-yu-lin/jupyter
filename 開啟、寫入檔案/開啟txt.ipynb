{
 "cells": [
  {
   "cell_type": "code",
   "execution_count": 1,
   "metadata": {},
   "outputs": [
    {
     "ename": "FileNotFoundError",
     "evalue": "[Errno 2] No such file or directory: 'ggg.txt'",
     "output_type": "error",
     "traceback": [
      "\u001b[1;31m---------------------------------------------------------------------------\u001b[0m",
      "\u001b[1;31mFileNotFoundError\u001b[0m                         Traceback (most recent call last)",
      "\u001b[1;32m<ipython-input-1-e9c6c0098994>\u001b[0m in \u001b[0;36m<module>\u001b[1;34m\u001b[0m\n\u001b[1;32m----> 1\u001b[1;33m \u001b[0mf\u001b[0m \u001b[1;33m=\u001b[0m \u001b[0mopen\u001b[0m\u001b[1;33m(\u001b[0m\u001b[1;34m'ggg.txt'\u001b[0m\u001b[1;33m,\u001b[0m\u001b[1;34m'r'\u001b[0m\u001b[1;33m)\u001b[0m\u001b[1;33m\u001b[0m\u001b[1;33m\u001b[0m\u001b[0m\n\u001b[0m",
      "\u001b[1;31mFileNotFoundError\u001b[0m: [Errno 2] No such file or directory: 'ggg.txt'"
     ]
    }
   ],
   "source": [
    "f = open('ggg.txt','r')"
   ]
  },
  {
   "cell_type": "code",
   "execution_count": 43,
   "metadata": {},
   "outputs": [
    {
     "data": {
      "text/plain": [
       "['CB_FIRST_ORDER_ITEM\\n',\n",
       " '\\n',\n",
       " '\\n',\n",
       " '56S86176    D11640705\\n',\n",
       " '\\n',\n",
       " \"update pcmb100m set apn_no='TL01' WHERE order_no='D116407' and order_item='05'; \\n\",\n",
       " '\\n',\n",
       " \"sel apn_no from pcmb100m WHERE order_no='D116407' and order_item='05';\\n\",\n",
       " '\\n',\n",
       " \"sel apn_no from pcmb100m WHERE order_no='D116407' and order_item='05';\\n\",\n",
       " '\\n',\n",
       " '\\n',\n",
       " \"sel coil_no from pcmb020m where curr_station='CAP' limit to 10 rows;\\n\",\n",
       " ' 54S59312\\n',\n",
       " ' 55S85670\\n',\n",
       " ' 55S61574\\n',\n",
       " '\\n',\n",
       " \" sel PREV_STATION from pcmb020m where coil_no='54S59312'\\n\",\n",
       " \"UPDATE PCMB020M SET PREV_STATION='HAP' where coil_no='54S59312';\\n\",\n",
       " \" sel APL_ROUTE from ORDB011M where  order_no='UD16065' and order_item='13';\\n\",\n",
       " '\\n',\n",
       " '\\n',\n",
       " '55S85674    UD1606513\\n',\n",
       " 'CURR_STATION_INDEX   ACTL_STATION_CODE\\n',\n",
       " '                  7   BEHLOYY$']"
      ]
     },
     "execution_count": 43,
     "metadata": {},
     "output_type": "execute_result"
    }
   ],
   "source": [
    "f.readlines()  #"
   ]
  },
  {
   "cell_type": "code",
   "execution_count": 40,
   "metadata": {},
   "outputs": [
    {
     "name": "stdout",
     "output_type": "stream",
     "text": [
      "\n"
     ]
    }
   ],
   "source": [
    "print(f.readline())"
   ]
  },
  {
   "cell_type": "code",
   "execution_count": 41,
   "metadata": {},
   "outputs": [
    {
     "ename": "UnsupportedOperation",
     "evalue": "not writable",
     "output_type": "error",
     "traceback": [
      "\u001b[1;31m---------------------------------------------------------------------------\u001b[0m",
      "\u001b[1;31mUnsupportedOperation\u001b[0m                      Traceback (most recent call last)",
      "\u001b[1;32m<ipython-input-41-b3a8e450225d>\u001b[0m in \u001b[0;36m<module>\u001b[1;34m\u001b[0m\n\u001b[1;32m----> 1\u001b[1;33m \u001b[0mf\u001b[0m\u001b[1;33m.\u001b[0m\u001b[0mwrite\u001b[0m\u001b[1;33m(\u001b[0m\u001b[1;34m'公司內網不能登入我好難過'\u001b[0m\u001b[1;33m)\u001b[0m\u001b[1;33m\u001b[0m\u001b[1;33m\u001b[0m\u001b[0m\n\u001b[0m",
      "\u001b[1;31mUnsupportedOperation\u001b[0m: not writable"
     ]
    }
   ],
   "source": [
    "f.write('公司內網不能登入我好難過')"
   ]
  },
  {
   "cell_type": "code",
   "execution_count": null,
   "metadata": {},
   "outputs": [],
   "source": []
  }
 ],
 "metadata": {
  "kernelspec": {
   "display_name": "Python 3",
   "language": "python",
   "name": "python3"
  },
  "language_info": {
   "codemirror_mode": {
    "name": "ipython",
    "version": 3
   },
   "file_extension": ".py",
   "mimetype": "text/x-python",
   "name": "python",
   "nbconvert_exporter": "python",
   "pygments_lexer": "ipython3",
   "version": "3.7.6"
  }
 },
 "nbformat": 4,
 "nbformat_minor": 4
}
