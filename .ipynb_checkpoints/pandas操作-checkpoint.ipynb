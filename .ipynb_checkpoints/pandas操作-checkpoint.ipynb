{
 "cells": [
  {
   "cell_type": "code",
   "execution_count": 1,
   "metadata": {},
   "outputs": [],
   "source": [
    "import pandas as pd\n",
    "import numpy as np"
   ]
  },
  {
   "cell_type": "code",
   "execution_count": 2,
   "metadata": {},
   "outputs": [
    {
     "data": {
      "text/plain": [
       "A    an animal\n",
       "B      a color\n",
       "C      a fruit\n",
       "dtype: object"
      ]
     },
     "execution_count": 2,
     "metadata": {},
     "output_type": "execute_result"
    }
   ],
   "source": [
    "dictionary = {'A':'an animal',\n",
    "              'B':'a color',\n",
    "              'C':'a fruit'}\n",
    "dictionary = pd.Series(dictionary)\n",
    "dictionary"
   ]
  },
  {
   "cell_type": "code",
   "execution_count": 3,
   "metadata": {},
   "outputs": [
    {
     "name": "stdout",
     "output_type": "stream",
     "text": [
      "321    an animal\n",
      "Name: A, dtype: object\n"
     ]
    }
   ],
   "source": [
    "dictionary2 = {'A':['an animal'],\n",
    "              'B':['a color'],\n",
    "              'C':['a fruit']}\n",
    "dict_2 = pd.DataFrame(dictionary2,index=['321'])\n",
    "dict_index = pd.DataFrame(dictionary2,index=['321'],columns=['1','2','3'])\n",
    "print(dict_2['A'])"
   ]
  },
  {
   "cell_type": "markdown",
   "metadata": {},
   "source": [
    "# DataFrame新增資料        方法一某列的值沒滿則會顯示Nan、方法二則會遞補"
   ]
  },
  {
   "cell_type": "code",
   "execution_count": 5,
   "metadata": {},
   "outputs": [
    {
     "name": "stdout",
     "output_type": "stream",
     "text": [
      "新增前= \n",
      "     name  year  day  month  aaa\n",
      "0    Bob  1996   11      8  NaN\n",
      "1  Nancy  1997   23      8  NaN\n",
      "2    Amy  1997    8      7  NaN\n",
      "3   Elsa  1996    3      1  NaN\n",
      "4   Jack  1997   11     12  NaN\n",
      "新增後= \n",
      "     name  year  day  month aaa\n",
      "0    Bob  1996   11      8   1\n",
      "1  Nancy  1997   23      8   2\n",
      "2    Amy  1997    8      7   3\n",
      "3   Elsa  1996    3      1   4\n",
      "4   Jack  1997   11     12  99\n"
     ]
    }
   ],
   "source": [
    "# 方法一直接插入\n",
    "data = {'name': ['Bob', 'Nancy','Amy','Elsa','Jack'],\n",
    "        'year': [1996, 1997, 1997, 1996, 1997],\n",
    "        'month': [8, 8, 7, 1, 12],\n",
    "        'day':[11,23,8,3,11]}\n",
    "df = pd.DataFrame(data,columns=['name','year', 'day', 'month','aaa'])\n",
    "print('新增前=','\\n',df)\n",
    "aaa = ['1','2','3','4','99']\n",
    "df['aaa'] = aaa\n",
    "print('新增後=','\\n',df)"
   ]
  },
  {
   "cell_type": "code",
   "execution_count": 6,
   "metadata": {},
   "outputs": [
    {
     "name": "stdout",
     "output_type": "stream",
     "text": [
      "新增前= \n",
      "      fruit animals  plants\n",
      "0    apple     dog  flower\n",
      "1  bananas     cat   grass\n",
      "2   grapes    frog   water\n",
      "新增後= \n",
      "      fruit animals  plants       sport\n",
      "0    apple     dog  flower  basketball\n",
      "1  bananas     cat   grass    baseball\n",
      "2   grapes    frog   water      tennis\n"
     ]
    }
   ],
   "source": [
    "# 方法二用insert(loc,column,value)\n",
    "data2 = {'fruit':['apple','bananas','grapes'],\n",
    "          'animals':['dog','cat','frog'],\n",
    "          'plants':['flower','grass','water']\n",
    "        }\n",
    "data2 = pd.DataFrame(data2)\n",
    "print('新增前=','\\n',data2)\n",
    "data2.insert(3,column=\"sport\",value=['basketball','baseball','tennis'])\n",
    "print('新增後=','\\n',data2)"
   ]
  },
  {
   "cell_type": "markdown",
   "metadata": {},
   "source": [
    "# 資料刪除\n",
    "dropna()可刪除Nan的資料"
   ]
  },
  {
   "cell_type": "code",
   "execution_count": 7,
   "metadata": {},
   "outputs": [
    {
     "name": "stdout",
     "output_type": "stream",
     "text": [
      "     fruit animals  plants    ball\n",
      "0    apple     dog  flower  1234.0\n",
      "1  bananas     cat   grass     NaN\n",
      "2   grapes    frog   water     NaN\n",
      "===============================================drop之後============================================\n",
      "   fruit animals  plants    ball\n",
      "0  apple     dog  flower  1234.0\n"
     ]
    }
   ],
   "source": [
    "data3 = {'fruit':['apple','bananas','grapes'],\n",
    "          'animals':['dog','cat','frog'],\n",
    "          'plants':['flower','grass','water']\n",
    "        }\n",
    "data3 = pd.DataFrame(data3)\n",
    "data3 = pd.DataFrame(data3,columns=[\"fruit\",\"animals\",\"plants\",\"ball\"])\n",
    "ball = [1234]\n",
    "ball = pd.Series(ball)\n",
    "data3['ball']=ball\n",
    "print(data3)\n",
    "drop_data3 = data3.dropna()\n",
    "print('===============================================drop之後============================================')\n",
    "print(drop_data3)"
   ]
  },
  {
   "cell_type": "markdown",
   "metadata": {},
   "source": [
    "# 空白資料填充\n",
    "   fillna()把NaN的資料代換掉"
   ]
  },
  {
   "cell_type": "code",
   "execution_count": 8,
   "metadata": {},
   "outputs": [
    {
     "name": "stdout",
     "output_type": "stream",
     "text": [
      "     fruit animals  plants    ball\n",
      "0    apple     dog  flower  1234.0\n",
      "1  bananas     cat   grass     NaN\n",
      "2   grapes    frog   water     NaN\n",
      "===============================================置換之後============================================\n",
      "     fruit animals  plants    ball\n",
      "0    apple     dog  flower  1234.0\n",
      "1  bananas     cat   grass   123.0\n",
      "2   grapes    frog   water   123.0\n"
     ]
    }
   ],
   "source": [
    "print(data3)\n",
    "fill_data3 = data3.fillna(123)\n",
    "print('===============================================置換之後============================================')\n",
    "print(fill_data3)"
   ]
  },
  {
   "cell_type": "markdown",
   "metadata": {},
   "source": [
    "# 資料排序\n",
    "sort_values(by欄位)"
   ]
  },
  {
   "cell_type": "code",
   "execution_count": 9,
   "metadata": {},
   "outputs": [
    {
     "name": "stdout",
     "output_type": "stream",
     "text": [
      "     fruit animals  plants    ball\n",
      "0    apple     dog  flower  1234.0\n",
      "1  bananas     cat   grass   123.0\n",
      "2   grapes    frog   water   123.0\n"
     ]
    }
   ],
   "source": [
    "sort_data3 = fill_data3.sort_values(\"ball\")\n",
    "# ascending= False將資料反轉\n",
    "sort_ascending_data3 = fill_data3.sort_values(\"ball\",ascending= False) \n",
    "print(sort_ascending_data3)"
   ]
  },
  {
   "cell_type": "markdown",
   "metadata": {},
   "source": [
    "# 資料篩選"
   ]
  },
  {
   "cell_type": "code",
   "execution_count": 10,
   "metadata": {},
   "outputs": [
    {
     "name": "stdout",
     "output_type": "stream",
     "text": [
      "=======================================選出ball列中為1234的行=========================================\n",
      "   fruit animals  plants    ball\n",
      "0  apple     dog  flower  1234.0\n",
      "======================================選出ball列中不為1234的行===========================================\n",
      "     fruit animals plants   ball\n",
      "1  bananas     cat  grass  123.0\n",
      "2   grapes    frog  water  123.0\n",
      "=================================選出animals為dog且plants為flower======================================\n",
      "   fruit animals  plants    ball\n",
      "0  apple     dog  flower  1234.0\n",
      "3   lisa     dog  flower    19.0\n"
     ]
    }
   ],
   "source": [
    "print('=======================================選出ball列中為1234的行=========================================')\n",
    "data3_ball = (sort_ascending_data3['ball'] == 1234)\n",
    "print(sort_ascending_data3[data3_ball])\n",
    "print( '======================================選出ball列中不為1234的行===========================================')\n",
    "data3_ne_ball = (sort_ascending_data3['ball'] != 1234)\n",
    "print(sort_ascending_data3[data3_ne_ball])\n",
    "print('=================================選出animals為dog且plants為flower======================================')\n",
    "# 先插入一行資料\n",
    "new=pd.DataFrame({'fruit':'lisa',\n",
    "                  'animals':'dog',\n",
    "                  'plants':'flower',\n",
    "                  'ball':19},\n",
    "                 index=[3])\n",
    "sort_data3_vo2 = sort_ascending_data3.append(new)\n",
    "# 篩選資料!!\n",
    "data3_dog = (sort_data3_vo2['animals'] == 'dog')\n",
    "data3_plants = (sort_data3_vo2['plants'] == 'flower')\n",
    "print(sort_data3_vo2[data3_dog & data3_plants]) #(運算子符號) 或 |、且 & \n"
   ]
  },
  {
   "cell_type": "markdown",
   "metadata": {},
   "source": [
    "除了運算子也可使用isin()"
   ]
  },
  {
   "cell_type": "code",
   "execution_count": 11,
   "metadata": {},
   "outputs": [
    {
     "name": "stdout",
     "output_type": "stream",
     "text": [
      "   fruit animals  plants    ball\n",
      "0  apple     dog  flower  1234.0\n",
      "     fruit animals  plants    ball\n",
      "0    apple     dog  flower  1234.0\n",
      "1  bananas     cat   grass   123.0\n",
      "2   grapes    frog   water   123.0\n"
     ]
    }
   ],
   "source": [
    "print(sort_data3_vo2[sort_data3_vo2['fruit'].isin(['apple'])])\n",
    "# [fruit是apple] 或 [ball是1234或123]\n",
    "print(sort_data3_vo2[sort_data3_vo2['fruit'].isin(['apple']) | sort_data3_vo2['ball'].isin([1234,123])])"
   ]
  },
  {
   "cell_type": "markdown",
   "metadata": {},
   "source": [
    "isnull()和notnull()，用來判斷欄位是否為Nan，若有符合回傳true則false"
   ]
  },
  {
   "cell_type": "code",
   "execution_count": 12,
   "metadata": {},
   "outputs": [
    {
     "name": "stdout",
     "output_type": "stream",
     "text": [
      "=======================================原始值==========================================\n",
      "     fruit animals  plants    ball\n",
      "0    apple     dog  flower  1234.0\n",
      "1  bananas     cat   grass     NaN\n",
      "2   grapes    frog   water     NaN\n",
      "3   orange     NaN  flower    19.0\n",
      "=======================================ball有Nan的==========================================\n",
      "     fruit animals plants  ball\n",
      "1  bananas     cat  grass   NaN\n",
      "2   grapes    frog  water   NaN\n",
      "=======================================animals有Nan的==========================================\n",
      "    fruit animals  plants  ball\n",
      "3  orange     NaN  flower  19.0\n"
     ]
    }
   ],
   "source": [
    "print(\"=======================================原始值==========================================\")\n",
    "new2 = pd.DataFrame({\n",
    "    'fruit':'orange',    \n",
    "    'plants':'flower',\n",
    "    'ball':19\n",
    "    },index=[3])\n",
    "sort_data3_null = data3.append(new2)\n",
    "print(sort_data3_null)\n",
    "print(\"=======================================ball有Nan的==========================================\")\n",
    "data3_null = sort_data3_null['ball'].isnull()\n",
    "print(sort_data3_null[data3_null])\n",
    "print(\"=======================================animals有Nan的==========================================\")\n",
    "data3_animals_null = sort_data3_null['animals'].isnull()\n",
    "print(sort_data3_null[data3_animals_null])"
   ]
  },
  {
   "cell_type": "markdown",
   "metadata": {},
   "source": [
    "也可使用between (兩個時間之間)"
   ]
  },
  {
   "cell_type": "code",
   "execution_count": 13,
   "metadata": {},
   "outputs": [
    {
     "name": "stdout",
     "output_type": "stream",
     "text": [
      "     fruit animals  plants    ball\n",
      "0    apple     dog  flower  1234.0\n",
      "1  bananas     cat   grass   123.0\n",
      "2   grapes    frog   water   123.0\n",
      "3     lisa     dog  flower    19.0\n",
      "     fruit animals  plants    ball\n",
      "0    apple     dog  flower  1234.0\n",
      "1  bananas     cat   grass   123.0\n",
      "2   grapes    frog   water   123.0\n"
     ]
    }
   ],
   "source": [
    "print(sort_data3_vo2)\n",
    "\n",
    "print(sort_data3_vo2[sort_data3_vo2['ball'].between(123,1234)])"
   ]
  }
 ],
 "metadata": {
  "kernelspec": {
   "display_name": "Python 3",
   "language": "python",
   "name": "python3"
  },
  "language_info": {
   "codemirror_mode": {
    "name": "ipython",
    "version": 3
   },
   "file_extension": ".py",
   "mimetype": "text/x-python",
   "name": "python",
   "nbconvert_exporter": "python",
   "pygments_lexer": "ipython3",
   "version": "3.7.7"
  }
 },
 "nbformat": 4,
 "nbformat_minor": 4
}
