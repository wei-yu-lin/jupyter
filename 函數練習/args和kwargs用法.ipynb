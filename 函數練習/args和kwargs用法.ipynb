{
 "cells": [
  {
   "cell_type": "code",
   "execution_count": 2,
   "metadata": {},
   "outputs": [],
   "source": [
    "import pandas as pd"
   ]
  },
  {
   "cell_type": "markdown",
   "metadata": {},
   "source": [
    "*argv－收集至 Tuple\n",
    "1.可以不用指名"
   ]
  },
  {
   "cell_type": "code",
   "execution_count": 4,
   "metadata": {},
   "outputs": [
    {
     "name": "stdout",
     "output_type": "stream",
     "text": [
      "first normal arg: yasoob\n",
      "another arg through *argv: python\n",
      "another arg through *argv: eggs\n",
      "another arg through *argv: test\n"
     ]
    }
   ],
   "source": [
    "# 以下例子 ['python', 'eggs', 'test']都被包在*argv裡面\n",
    "def test_var_args(f_arg, *argv):\n",
    "    print(\"first normal arg:\", f_arg)\n",
    "    for arg in argv:\n",
    "        print(\"another arg through *argv:\", arg)\n",
    "\n",
    "test_var_args('yasoob', 'python', 'eggs', 'test')"
   ]
  },
  {
   "cell_type": "code",
   "execution_count": 11,
   "metadata": {},
   "outputs": [
    {
     "ename": "SyntaxError",
     "evalue": "non-default argument follows default argument (<ipython-input-11-ab973ff8b566>, line 1)",
     "output_type": "error",
     "traceback": [
      "\u001b[1;36m  File \u001b[1;32m\"<ipython-input-11-ab973ff8b566>\"\u001b[1;36m, line \u001b[1;32m1\u001b[0m\n\u001b[1;33m    def fun(a, b=20, kw1, kw2=40):\u001b[0m\n\u001b[1;37m           ^\u001b[0m\n\u001b[1;31mSyntaxError\u001b[0m\u001b[1;31m:\u001b[0m non-default argument follows default argument\n"
     ]
    }
   ],
   "source": [
    "def fun(a, b=20, *, kw1, kw2=40):\n",
    "    print(a, b, kw1, kw2)\n",
    "\n",
    "fun(1, 2, kw1=3, kw2=4)  # 1 2 3 4\n",
    "fun(10, kw1=30)  # 10 20 30 40\n",
    "# 在傳入引數時，在 * 後面的（kw1 和 kw2）一定要以關鍵字引數（指名）傳入"
   ]
  },
  {
   "cell_type": "code",
   "execution_count": 35,
   "metadata": {},
   "outputs": [
    {
     "ename": "SyntaxError",
     "evalue": "non-default argument follows default argument (<ipython-input-35-8bd7f82c0e9c>, line 2)",
     "output_type": "error",
     "traceback": [
      "\u001b[1;36m  File \u001b[1;32m\"<ipython-input-35-8bd7f82c0e9c>\"\u001b[1;36m, line \u001b[1;32m2\u001b[0m\n\u001b[1;33m    def fun(a, b=20,kw1):\u001b[0m\n\u001b[1;37m           ^\u001b[0m\n\u001b[1;31mSyntaxError\u001b[0m\u001b[1;31m:\u001b[0m non-default argument follows default argument\n"
     ]
    }
   ],
   "source": [
    "def fun(a, b=20,*,kw1):\n",
    "# def fun(a, b=20,kw1): # non-default argument follows default argument\n",
    "    print(a, b,kw1)\n",
    "\n",
    "fun(1,2,kw1=3)  # 1 2 3 4\n",
    "fun(10,2,kw1=3)  # 10 20 30 40"
   ]
  },
  {
   "cell_type": "code",
   "execution_count": 9,
   "metadata": {},
   "outputs": [
    {
     "ename": "SyntaxError",
     "evalue": "invalid syntax (<ipython-input-9-a27739a0291c>, line 3)",
     "output_type": "error",
     "traceback": [
      "\u001b[1;36m  File \u001b[1;32m\"<ipython-input-9-a27739a0291c>\"\u001b[1;36m, line \u001b[1;32m3\u001b[0m\n\u001b[1;33m    print(*)\u001b[0m\n\u001b[1;37m           ^\u001b[0m\n\u001b[1;31mSyntaxError\u001b[0m\u001b[1;31m:\u001b[0m invalid syntax\n"
     ]
    }
   ],
   "source": [
    "def project(arg_index,arg_value,*):\n",
    "    popo = arg_value*arg_index\n",
    "    print(*)\n",
    "#     return gang\n",
    "project(4,25,'1/4','1/2')"
   ]
  },
  {
   "cell_type": "markdown",
   "metadata": {},
   "source": [
    "**kwargs 關鍵字引數 Keyword Argument\n",
    "1.拆解 Dict\n",
    "2.收集至 Dict"
   ]
  },
  {
   "cell_type": "code",
   "execution_count": 8,
   "metadata": {},
   "outputs": [
    {
     "name": "stdout",
     "output_type": "stream",
     "text": [
      "hello # world\n",
      "\n",
      "hello # world\n",
      "\n"
     ]
    }
   ],
   "source": [
    "# 1.拆解dict\n",
    "dt = {'sep': ' # ', 'end': '\\n\\n'}\n",
    "print('hello', 'world', **dt)\n",
    "# ================兩個一樣=====================\n",
    "print('hello', 'world',sep=' # ',end='\\n\\n' )"
   ]
  },
  {
   "cell_type": "code",
   "execution_count": 3,
   "metadata": {},
   "outputs": [
    {
     "name": "stdout",
     "output_type": "stream",
     "text": [
      "  name attack   hp\n",
      "0  Sky    100  500\n"
     ]
    }
   ],
   "source": [
    "# 2.收集至 Dict\n",
    "def ss(**z):\n",
    "    df = pd.DataFrame.from_dict(z, orient='index').T\n",
    "    return df\n",
    "\n",
    "print(ss(name='Sky', attack=100, hp=500))"
   ]
  }
 ],
 "metadata": {
  "kernelspec": {
   "display_name": "Python 3",
   "language": "python",
   "name": "python3"
  },
  "language_info": {
   "codemirror_mode": {
    "name": "ipython",
    "version": 3
   },
   "file_extension": ".py",
   "mimetype": "text/x-python",
   "name": "python",
   "nbconvert_exporter": "python",
   "pygments_lexer": "ipython3",
   "version": "3.7.7"
  }
 },
 "nbformat": 4,
 "nbformat_minor": 4
}
