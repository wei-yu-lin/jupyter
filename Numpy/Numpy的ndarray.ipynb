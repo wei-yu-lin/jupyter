{
 "cells": [
  {
   "cell_type": "code",
   "execution_count": 1,
   "metadata": {},
   "outputs": [],
   "source": [
    "import numpy as np"
   ]
  },
  {
   "cell_type": "markdown",
   "metadata": {},
   "source": [
    "# np.array()"
   ]
  },
  {
   "cell_type": "code",
   "execution_count": 23,
   "metadata": {},
   "outputs": [
    {
     "data": {
      "text/plain": [
       "array([[ 0.226 , -0.23  , -0.86  ],\n",
       "       [ 0.5639,  0.2379,  0.904 ]])"
      ]
     },
     "execution_count": 23,
     "metadata": {},
     "output_type": "execute_result"
    }
   ],
   "source": [
    "data = np.array([[ 0.226, -0.23 , -0.86],\n",
    "[ 0.5639, 0.2379, 0.904]])\n",
    "data"
   ]
  },
  {
   "cell_type": "markdown",
   "metadata": {},
   "source": [
    "建立一個ndarrays"
   ]
  },
  {
   "cell_type": "code",
   "execution_count": 31,
   "metadata": {},
   "outputs": [
    {
     "name": "stdout",
     "output_type": "stream",
     "text": [
      "[ 12.    4.5  24.  767.   97. ]\n",
      "[[ 12.    4.5  23. ]\n",
      " [ 24.  767.   97. ]]\n"
     ]
    }
   ],
   "source": [
    "data1 = [12,4.5,24,767,97]\n",
    "arr1 = np.array(data1)\n",
    "print(arr1)\n",
    "data2 = [[12,4.5,23],[24,767,97]]\n",
    "arr2 = np.array(data2)\n",
    "print(arr2)"
   ]
  },
  {
   "cell_type": "markdown",
   "metadata": {},
   "source": [
    ".ndim 查看ndarrays有多少維"
   ]
  },
  {
   "cell_type": "code",
   "execution_count": 33,
   "metadata": {},
   "outputs": [
    {
     "name": "stdout",
     "output_type": "stream",
     "text": [
      "2\n",
      "1\n"
     ]
    }
   ],
   "source": [
    "print(arr1.ndim)\n",
    "print(arr2.ndim)"
   ]
  },
  {
   "cell_type": "markdown",
   "metadata": {},
   "source": [
    "想看是幾乘幾的矩陣可以使用.shape"
   ]
  },
  {
   "cell_type": "code",
   "execution_count": 37,
   "metadata": {},
   "outputs": [
    {
     "name": "stdout",
     "output_type": "stream",
     "text": [
      "(5,)\n",
      "(2, 3)\n"
     ]
    }
   ],
   "source": [
    "print(arr1.shape)\n",
    "print(arr2.shape)"
   ]
  },
  {
   "cell_type": "markdown",
   "metadata": {},
   "source": [
    "Type provide"
   ]
  },
  {
   "cell_type": "code",
   "execution_count": 4,
   "metadata": {},
   "outputs": [
    {
     "data": {
      "text/plain": [
       "array([1.+0.j, 2.+0.j, 3.+0.j])"
      ]
     },
     "execution_count": 4,
     "metadata": {},
     "output_type": "execute_result"
    }
   ],
   "source": [
    "data2 = np.array([1, 2, 3], dtype=complex)\n",
    "data2"
   ]
  },
  {
   "cell_type": "code",
   "execution_count": 22,
   "metadata": {},
   "outputs": [
    {
     "data": {
      "text/plain": [
       "array([2, 4])"
      ]
     },
     "execution_count": 22,
     "metadata": {},
     "output_type": "execute_result"
    }
   ],
   "source": [
    "# 前面是位置，後面是資料型態:\n",
    "x = np.array([(1.21,2),(3,4.2)],dtype=[('a','<f4'),('b','<i4')])\n",
    "x['b']"
   ]
  },
  {
   "cell_type": "markdown",
   "metadata": {},
   "source": [
    "Creat data"
   ]
  },
  {
   "cell_type": "code",
   "execution_count": 40,
   "metadata": {},
   "outputs": [
    {
     "name": "stdout",
     "output_type": "stream",
     "text": [
      "[0 1 2 3 4 5 6 7 8 9]\n",
      "2\n",
      "[2 3 4 5]\n"
     ]
    }
   ],
   "source": [
    "arr3 = np.arange(10)\n",
    "print(arr3)\n",
    "# 跟list一樣可以利用index查找\n",
    "print(arr3[2])\n",
    "print(arr3[2:6])"
   ]
  },
  {
   "cell_type": "code",
   "execution_count": 54,
   "metadata": {},
   "outputs": [
    {
     "name": "stdout",
     "output_type": "stream",
     "text": [
      "[  0   1   2   3 433   5   6   7   8   9]\n"
     ]
    }
   ],
   "source": [
    "# Slicing    ndarrays可透過切割，再利用索引進行局部改變\n",
    "arr4 = np.arange(10)\n",
    "popo = arr4[3:6]\n",
    "popo[1] = 433\n",
    "print(arr4)"
   ]
  },
  {
   "cell_type": "markdown",
   "metadata": {},
   "source": [
    "# 廣播 "
   ]
  },
  {
   "cell_type": "code",
   "execution_count": 62,
   "metadata": {},
   "outputs": [
    {
     "name": "stdout",
     "output_type": "stream",
     "text": [
      "[12 23 34]\n",
      "[24 46 68]\n"
     ]
    }
   ],
   "source": [
    "# 廣播的使用原來的向量而不需要實際的複製\n",
    "arr5 = np.array([12,23,34])\n",
    "print(arr5)\n",
    "d = 2\n",
    "yoyo = arr5 * d\n",
    "print(yoyo)\n",
    "# 相當於d也是一個array，可以想像是Numpy會把d給放大變成和arr5一樣的大小（shape），而不需要自己去複製和arr5一樣多個2。"
   ]
  },
  {
   "cell_type": "code",
   "execution_count": 74,
   "metadata": {},
   "outputs": [
    {
     "name": "stdout",
     "output_type": "stream",
     "text": [
      "[[0]\n",
      " [1]\n",
      " [2]\n",
      " [3]]\n",
      "[1. 1. 1. 1. 1.]\n",
      "None\n"
     ]
    }
   ],
   "source": [
    "x = np.array([0,1,2,3])\n",
    "x2 = x.reshape(4,1)\n",
    "print(x2)\n",
    "y1 = np.ones(5)\n",
    "print(y1)\n",
    "zz = y1 + x2"
   ]
  },
  {
   "cell_type": "markdown",
   "metadata": {},
   "source": [
    ".base 判斷某array是基於哪個陣列延伸出 是會返回True 否會返回None"
   ]
  },
  {
   "cell_type": "code",
   "execution_count": 82,
   "metadata": {},
   "outputs": [
    {
     "name": "stdout",
     "output_type": "stream",
     "text": [
      "True\n"
     ]
    },
    {
     "data": {
      "text/plain": [
       "False"
      ]
     },
     "execution_count": 82,
     "metadata": {},
     "output_type": "execute_result"
    }
   ],
   "source": [
    "gg = np.arange(5)\n",
    "hh = gg.reshape(5,1)\n",
    "print(hh.base is gg)\n",
    "ff = gg * 3\n",
    "ff.base is gg"
   ]
  },
  {
   "cell_type": "markdown",
   "metadata": {},
   "source": [
    "# Numpy的數學&統計方法！"
   ]
  },
  {
   "cell_type": "markdown",
   "metadata": {},
   "source": [
    "Random Data"
   ]
  },
  {
   "cell_type": "markdown",
   "metadata": {},
   "source": [
    "random.randn()這個是隨機數有可能為負、正的整、小數"
   ]
  },
  {
   "cell_type": "code",
   "execution_count": 88,
   "metadata": {},
   "outputs": [
    {
     "name": "stdout",
     "output_type": "stream",
     "text": [
      "[[-1.40694060e+00 -1.23538959e+00]\n",
      " [ 3.92277724e-01 -5.12783367e-01]\n",
      " [ 3.94303752e-01 -4.66636440e-01]\n",
      " [-1.78297553e+00 -8.12016829e-01]\n",
      " [ 8.07097679e-02 -1.23251497e+00]\n",
      " [ 3.82685700e-01  2.03160941e+00]\n",
      " [ 1.14401533e+00  7.02607108e-01]\n",
      " [-7.65991939e-01 -1.64480120e-02]\n",
      " [ 9.65449088e-01 -4.33911415e-01]\n",
      " [-3.67352165e-01 -2.85785122e-01]\n",
      " [-1.31951689e+00  7.95132259e-01]\n",
      " [ 2.41050751e+00  3.70796189e-01]\n",
      " [ 2.70154526e-01 -2.26933518e+00]\n",
      " [ 1.10324985e+00 -5.76621827e-04]\n",
      " [ 1.16576953e+00 -4.57177523e-01]\n",
      " [ 2.17682161e+00 -4.62242324e-01]\n",
      " [-1.70210617e-01 -1.85542360e+00]\n",
      " [-9.03291322e-01  9.86929186e-01]\n",
      " [-2.76618395e-01 -7.89091663e-01]\n",
      " [ 7.86377763e-01 -1.06607578e+00]]\n",
      "[[ 8.5930594   8.76461041]\n",
      " [10.39227772  9.48721663]\n",
      " [10.39430375  9.53336356]\n",
      " [ 8.21702447  9.18798317]\n",
      " [10.08070977  8.76748503]\n",
      " [10.3826857  12.03160941]\n",
      " [11.14401533 10.70260711]\n",
      " [ 9.23400806  9.98355199]\n",
      " [10.96544909  9.56608858]\n",
      " [ 9.63264784  9.71421488]\n",
      " [ 8.68048311 10.79513226]\n",
      " [12.41050751 10.37079619]\n",
      " [10.27015453  7.73066482]\n",
      " [11.10324985  9.99942338]\n",
      " [11.16576953  9.54282248]\n",
      " [12.17682161  9.53775768]\n",
      " [ 9.82978938  8.1445764 ]\n",
      " [ 9.09670868 10.98692919]\n",
      " [ 9.7233816   9.21090834]\n",
      " [10.78637776  8.93392422]]\n"
     ]
    }
   ],
   "source": [
    "a22 = np.random.randn(20,2) #20行的2維陣列\n",
    "print(a22)\n",
    "print(a22 + 10)"
   ]
  },
  {
   "cell_type": "markdown",
   "metadata": {},
   "source": [
    ".random.randint(low, high=None, size=None, dtype='l') 隨機整數"
   ]
  },
  {
   "cell_type": "code",
   "execution_count": 197,
   "metadata": {},
   "outputs": [
    {
     "name": "stdout",
     "output_type": "stream",
     "text": [
      "[13 21 18 19 14 12 13 20 13 21]\n",
      "[[ 8  9]\n",
      " [12 10]\n",
      " [ 7  9]\n",
      " [ 2  4]]\n",
      "[[4 7]\n",
      " [4 7]\n",
      " [3 7]\n",
      " [5 7]]\n"
     ]
    }
   ],
   "source": [
    "i10 = np.random.randint(10,22,size=10)\n",
    "print(i10)\n",
    "i42 = np.random.randint(2,13,size=[4,2])\n",
    "print(i42)\n",
    "i_arr = np.random.randint([2,5],[6,8],size=[4,2])\n",
    "print(i_arr)"
   ]
  },
  {
   "cell_type": "markdown",
   "metadata": {},
   "source": [
    ".mean() 取平均值"
   ]
  },
  {
   "cell_type": "code",
   "execution_count": 214,
   "metadata": {},
   "outputs": [
    {
     "data": {
      "text/plain": [
       "14.6"
      ]
     },
     "execution_count": 214,
     "metadata": {},
     "output_type": "execute_result"
    }
   ],
   "source": [
    "i10 = np.random.randint(10,22,size=10)\n",
    "i10.mean()"
   ]
  },
  {
   "cell_type": "code",
   "execution_count": 244,
   "metadata": {},
   "outputs": [
    {
     "data": {
      "text/plain": [
       "array([7, 8, 3, 8, 8, 8, 0, 8, 1, 6])"
      ]
     },
     "execution_count": 244,
     "metadata": {},
     "output_type": "execute_result"
    }
   ],
   "source": [
    "i20 = np.random.randint(10,None,size=10)\n",
    "i20"
   ]
  },
  {
   "cell_type": "code",
   "execution_count": null,
   "metadata": {},
   "outputs": [],
   "source": [
    ".sum(總和)"
   ]
  },
  {
   "cell_type": "code",
   "execution_count": 217,
   "metadata": {},
   "outputs": [
    {
     "data": {
      "text/plain": [
       "15"
      ]
     },
     "execution_count": 217,
     "metadata": {},
     "output_type": "execute_result"
    }
   ],
   "source": [
    "obj1 = [1,2,3,4,5]\n",
    "np.array(obj1).sum()"
   ]
  },
  {
   "cell_type": "code",
   "execution_count": 228,
   "metadata": {},
   "outputs": [
    {
     "name": "stdout",
     "output_type": "stream",
     "text": [
      "[ 2  5  9 14 20 27] \n",
      "\n",
      "[ 2  5  9 14 20 27]\n"
     ]
    }
   ],
   "source": [
    "# cumsum()會回傳累加\n",
    "obj2 = np.array([[2,3,4], [5,6,7]])\n",
    "print(obj2.cumsum(),'\\n')\n",
    "list1 = [2,3,4,5,6,7]\n",
    "print(np.cumsum(list1))"
   ]
  },
  {
   "cell_type": "code",
   "execution_count": 231,
   "metadata": {},
   "outputs": [
    {
     "data": {
      "text/plain": [
       "1.118033988749895"
      ]
     },
     "execution_count": 231,
     "metadata": {},
     "output_type": "execute_result"
    }
   ],
   "source": [
    "# .std() 表準差\n",
    "obj3 = np.array([[1,2],[3,4]])\n",
    "obj3.std()"
   ]
  }
 ],
 "metadata": {
  "kernelspec": {
   "display_name": "Python 3",
   "language": "python",
   "name": "python3"
  },
  "language_info": {
   "codemirror_mode": {
    "name": "ipython",
    "version": 3
   },
   "file_extension": ".py",
   "mimetype": "text/x-python",
   "name": "python",
   "nbconvert_exporter": "python",
   "pygments_lexer": "ipython3",
   "version": "3.7.7"
  }
 },
 "nbformat": 4,
 "nbformat_minor": 4
}
